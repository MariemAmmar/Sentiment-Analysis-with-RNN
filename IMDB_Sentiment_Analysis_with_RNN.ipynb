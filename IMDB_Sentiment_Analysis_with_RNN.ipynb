{
  "nbformat": 4,
  "nbformat_minor": 0,
  "metadata": {
    "colab": {
      "provenance": []
    },
    "kernelspec": {
      "name": "python3",
      "display_name": "Python 3"
    },
    "language_info": {
      "name": "python"
    },
    "accelerator": "GPU",
    "gpuClass": "standard"
  },
  "cells": [
    {
      "cell_type": "markdown",
      "source": [
        "#**Introductory: Word Embeddings to Represent Text Data**"
      ],
      "metadata": {
        "id": "eJkqWBq0lHM2"
      }
    },
    {
      "cell_type": "markdown",
      "source": [
        "A potential drawback with one-hot encoded feature vector approaches such as N-Grams, bag of words and TF-IDF approach is that the feature vector for each document can be huge. For instance, if you have a half million unique words in your corpus and you want to represent a sentence that contains 10 words, your feature vector will be a half million dimensional one-hot encoded vector where only 10 indexes will have 1. This is a wastage of space and increases algorithm complexity exponentially resulting in the curse of dimentionality.\n",
        "\n",
        "In word embeddings, every word is represented as an n-dimensional dense vector. The words that are similar will have similar vector. Word embeddings techniques such as GloVe and Word2Vec have proven to be extremely efficient for converting words into corresponding dense vectors. The vector size is small and none of the indexes in the vector is actually empty.\n",
        "\n",
        "Keras library contains a layer called Embedding(). The embedding layer is implemented in the form of a class in Keras and is normally used as a first layer in the sequential model for NLP tasks."
      ],
      "metadata": {
        "id": "rk4h0Uh1ldBj"
      }
    },
    {
      "cell_type": "markdown",
      "source": [
        "![alt text](https://raw.githubusercontent.com/MariemAmmar/Sentiment-Analysis-with-RNN/main/One%20hot%20encoding.PNG)\n",
        "![alt text](https://raw.githubusercontent.com/MariemAmmar/Sentiment-Analysis-with-RNN/main/One%20hot%20encoding%20problems.PNG)\n",
        "![alt text](https://raw.githubusercontent.com/MariemAmmar/Sentiment-Analysis-with-RNN/main/Word%20Emeddings.PNG)\n",
        "![alt text](https://raw.githubusercontent.com/MariemAmmar/Sentiment-Analysis-with-RNN/main/Word%20Embedding%20Models.PNG)\n"
      ],
      "metadata": {
        "id": "SSoCoRWirjYj"
      }
    },
    {
      "cell_type": "code",
      "execution_count": 1,
      "metadata": {
        "id": "WRaVWUuxi9o0"
      },
      "outputs": [],
      "source": [
        "from numpy import array\n",
        "from keras.preprocessing.text import one_hot\n",
        "from tensorflow.keras.preprocessing.sequence import pad_sequences\n",
        "from keras.models import Sequential\n",
        "from keras.layers import Dense\n",
        "from keras.layers import Flatten\n",
        "from tensorflow.keras.layers import Embedding\n",
        "\n",
        "\n",
        "corpus = [ 'This is an excellent movie',\n",
        "          'The move was fantastic I like it',\n",
        "          'You should watch it is brilliant',\n",
        "          'Exceptionally good',\n",
        "          'Wonderfully directed and executed I like it',\n",
        "          'Its a fantastic series',\n",
        "          'Never watched such a brillent movie',\n",
        "          'It is a Wonderful movie',\n",
        "          \"horrible acting\",\n",
        "          'waste of money',\n",
        "          'pathetic picture',\n",
        "          'It was very boring',\n",
        "          'I did not like the movie',\n",
        "          'The movie was horrible',\n",
        "          'I will not recommend',\n",
        "          'The acting is pathetic']\n",
        "\n",
        "sentiments = array([1,1,1,1,1,1,1,1,0,0,0,0,0,0,0,0])"
      ]
    },
    {
      "cell_type": "markdown",
      "source": [
        "the first parameter to the Embedding() layer is the vocabulary, or number of unique words in the corpus. Let's first find the total number of words in our corpus:"
      ],
      "metadata": {
        "id": "30WOwK3RnRGE"
      }
    },
    {
      "cell_type": "code",
      "source": [
        "import nltk\n",
        "nltk.download('punkt')\n",
        "from nltk.tokenize import word_tokenize\n",
        "all_words = []\n",
        "for sent in corpus:\n",
        "  tokenize_word = word_tokenize(sent)\n",
        "  for word in tokenize_word:\n",
        "    all_words.append(word)"
      ],
      "metadata": {
        "colab": {
          "base_uri": "https://localhost:8080/"
        },
        "id": "sbt5fw4PnQca",
        "outputId": "6215658f-6c34-4250-b275-cf14c05c871f"
      },
      "execution_count": 2,
      "outputs": [
        {
          "output_type": "stream",
          "name": "stderr",
          "text": [
            "[nltk_data] Downloading package punkt to /root/nltk_data...\n",
            "[nltk_data]   Unzipping tokenizers/punkt.zip.\n"
          ]
        }
      ]
    },
    {
      "cell_type": "code",
      "source": [
        "unique_words = set(all_words)\n",
        "print(len(unique_words))"
      ],
      "metadata": {
        "colab": {
          "base_uri": "https://localhost:8080/"
        },
        "id": "LaqNAaKdn_wk",
        "outputId": "3b4e9a95-a72c-43cd-ed3c-05935e10721a"
      },
      "execution_count": 3,
      "outputs": [
        {
          "output_type": "stream",
          "name": "stdout",
          "text": [
            "45\n"
          ]
        }
      ]
    },
    {
      "cell_type": "markdown",
      "source": [
        "In the output you will see \"45\", which is the number of unique words in our corpus. We will add a buffer of 5 to our vocabulary size and will set the value of vocab_length to 50.\n",
        "\n",
        "One way to convert text to numbers is by using the one_hot function from the keras.preprocessing.text library. The function takes sentence and the total length of the vocabulary and returns the sentence in numeric form."
      ],
      "metadata": {
        "id": "0FkvN0hOnltm"
      }
    },
    {
      "cell_type": "code",
      "source": [
        "embedded_sentences = [one_hot(sent, 50) for sent in corpus]\n",
        "print(embedded_sentences )\n",
        "word_count = lambda sentence: len(word_tokenize(sentence))\n",
        "longest_sentence = max(corpus, key=word_count)\n",
        "length_long_sentence = len(word_tokenize(longest_sentence))\n",
        "padded_sentences = pad_sequences(embedded_sentences, length_long_sentence, padding='post')\n",
        "print(padded_sentences)\n",
        "word_count = lambda sentence: len(word_tokenize(sentence))\n",
        "longest_sentence = max(corpus, key=word_count)\n",
        "length_long_sentence = len(word_tokenize(longest_sentence))\n",
        "model = Sequential()\n",
        "model.add(Embedding(50, 20, input_length=length_long_sentence)) # 50 = vocab size\n",
        "model.add(Flatten())\n",
        "model.add(Dense(1, activation='sigmoid'))\n",
        "model.summary() "
      ],
      "metadata": {
        "colab": {
          "base_uri": "https://localhost:8080/"
        },
        "id": "x1vMvgJDl1H3",
        "outputId": "3814c5a2-482d-460c-8dce-1f3c06369e71"
      },
      "execution_count": 4,
      "outputs": [
        {
          "output_type": "stream",
          "name": "stdout",
          "text": [
            "[[31, 4, 12, 22, 36], [5, 17, 29, 22, 7, 5, 25], [17, 44, 31, 25, 4, 11], [40, 24], [18, 21, 23, 8, 7, 5, 25], [31, 44, 22, 29], [14, 48, 41, 44, 23, 36], [25, 4, 44, 36, 36], [38, 29], [25, 34, 8], [28, 13], [25, 29, 7, 19], [7, 9, 22, 5, 5, 36], [5, 36, 29, 38], [7, 28, 22, 18], [5, 29, 4, 28]]\n",
            "[[31  4 12 22 36  0  0]\n",
            " [ 5 17 29 22  7  5 25]\n",
            " [17 44 31 25  4 11  0]\n",
            " [40 24  0  0  0  0  0]\n",
            " [18 21 23  8  7  5 25]\n",
            " [31 44 22 29  0  0  0]\n",
            " [14 48 41 44 23 36  0]\n",
            " [25  4 44 36 36  0  0]\n",
            " [38 29  0  0  0  0  0]\n",
            " [25 34  8  0  0  0  0]\n",
            " [28 13  0  0  0  0  0]\n",
            " [25 29  7 19  0  0  0]\n",
            " [ 7  9 22  5  5 36  0]\n",
            " [ 5 36 29 38  0  0  0]\n",
            " [ 7 28 22 18  0  0  0]\n",
            " [ 5 29  4 28  0  0  0]]\n",
            "Model: \"sequential\"\n",
            "_________________________________________________________________\n",
            " Layer (type)                Output Shape              Param #   \n",
            "=================================================================\n",
            " embedding (Embedding)       (None, 7, 20)             1000      \n",
            "                                                                 \n",
            " flatten (Flatten)           (None, 140)               0         \n",
            "                                                                 \n",
            " dense (Dense)               (None, 1)                 141       \n",
            "                                                                 \n",
            "=================================================================\n",
            "Total params: 1,141\n",
            "Trainable params: 1,141\n",
            "Non-trainable params: 0\n",
            "_________________________________________________________________\n"
          ]
        }
      ]
    },
    {
      "cell_type": "markdown",
      "source": [
        "we create a Sequential model and add the Embedding layer as the first layer to the model. The length of the vocabulary is specified by the vocab_length parameter. The dimension of each word vector will be 20 and the input_length will be the length of the longest sentence, which is 7. Next, the Embedding layer is flattened so that it can be directly used with the densely connected layer. Since it is a binary classification problem, we use the sigmoid function as the loss function at the dense layer."
      ],
      "metadata": {
        "id": "rL4bXNmGpaYu"
      }
    },
    {
      "cell_type": "code",
      "source": [
        "model.compile(optimizer='adam', loss='binary_crossentropy', metrics=['acc'])\n",
        "print(model.summary())\n",
        "model.fit(padded_sentences, sentiments, epochs=100, verbose=1)\n",
        "loss, accuracy = model.evaluate(padded_sentences, sentiments, verbose=0)\n",
        "print('Accuracy: %f' % (accuracy*100))\n"
      ],
      "metadata": {
        "colab": {
          "base_uri": "https://localhost:8080/"
        },
        "id": "gylJUdsBpclN",
        "outputId": "fe8d9186-6865-465a-a992-20cc59cf9bc6"
      },
      "execution_count": 5,
      "outputs": [
        {
          "output_type": "stream",
          "name": "stdout",
          "text": [
            "Model: \"sequential\"\n",
            "_________________________________________________________________\n",
            " Layer (type)                Output Shape              Param #   \n",
            "=================================================================\n",
            " embedding (Embedding)       (None, 7, 20)             1000      \n",
            "                                                                 \n",
            " flatten (Flatten)           (None, 140)               0         \n",
            "                                                                 \n",
            " dense (Dense)               (None, 1)                 141       \n",
            "                                                                 \n",
            "=================================================================\n",
            "Total params: 1,141\n",
            "Trainable params: 1,141\n",
            "Non-trainable params: 0\n",
            "_________________________________________________________________\n",
            "None\n",
            "Epoch 1/100\n",
            "1/1 [==============================] - 5s 5s/step - loss: 0.6944 - acc: 0.5625\n",
            "Epoch 2/100\n",
            "1/1 [==============================] - 0s 14ms/step - loss: 0.6907 - acc: 0.6250\n",
            "Epoch 3/100\n",
            "1/1 [==============================] - 0s 12ms/step - loss: 0.6871 - acc: 0.6875\n",
            "Epoch 4/100\n",
            "1/1 [==============================] - 0s 12ms/step - loss: 0.6835 - acc: 0.6875\n",
            "Epoch 5/100\n",
            "1/1 [==============================] - 0s 13ms/step - loss: 0.6799 - acc: 0.6875\n",
            "Epoch 6/100\n",
            "1/1 [==============================] - 0s 13ms/step - loss: 0.6763 - acc: 0.6875\n",
            "Epoch 7/100\n",
            "1/1 [==============================] - 0s 12ms/step - loss: 0.6727 - acc: 0.6875\n",
            "Epoch 8/100\n",
            "1/1 [==============================] - 0s 12ms/step - loss: 0.6691 - acc: 0.7500\n",
            "Epoch 9/100\n",
            "1/1 [==============================] - 0s 12ms/step - loss: 0.6655 - acc: 0.7500\n",
            "Epoch 10/100\n",
            "1/1 [==============================] - 0s 12ms/step - loss: 0.6619 - acc: 0.8125\n",
            "Epoch 11/100\n",
            "1/1 [==============================] - 0s 9ms/step - loss: 0.6583 - acc: 0.8125\n",
            "Epoch 12/100\n",
            "1/1 [==============================] - 0s 12ms/step - loss: 0.6547 - acc: 0.8750\n",
            "Epoch 13/100\n",
            "1/1 [==============================] - 0s 12ms/step - loss: 0.6511 - acc: 0.8750\n",
            "Epoch 14/100\n",
            "1/1 [==============================] - 0s 12ms/step - loss: 0.6474 - acc: 0.8750\n",
            "Epoch 15/100\n",
            "1/1 [==============================] - 0s 12ms/step - loss: 0.6438 - acc: 0.8750\n",
            "Epoch 16/100\n",
            "1/1 [==============================] - 0s 12ms/step - loss: 0.6401 - acc: 0.8750\n",
            "Epoch 17/100\n",
            "1/1 [==============================] - 0s 13ms/step - loss: 0.6364 - acc: 0.8750\n",
            "Epoch 18/100\n",
            "1/1 [==============================] - 0s 12ms/step - loss: 0.6327 - acc: 0.8750\n",
            "Epoch 19/100\n",
            "1/1 [==============================] - 0s 12ms/step - loss: 0.6289 - acc: 0.8750\n",
            "Epoch 20/100\n",
            "1/1 [==============================] - 0s 12ms/step - loss: 0.6252 - acc: 0.8750\n",
            "Epoch 21/100\n",
            "1/1 [==============================] - 0s 12ms/step - loss: 0.6214 - acc: 0.8750\n",
            "Epoch 22/100\n",
            "1/1 [==============================] - 0s 13ms/step - loss: 0.6176 - acc: 0.8750\n",
            "Epoch 23/100\n",
            "1/1 [==============================] - 0s 12ms/step - loss: 0.6137 - acc: 0.9375\n",
            "Epoch 24/100\n",
            "1/1 [==============================] - 0s 12ms/step - loss: 0.6098 - acc: 0.9375\n",
            "Epoch 25/100\n",
            "1/1 [==============================] - 0s 12ms/step - loss: 0.6059 - acc: 0.9375\n",
            "Epoch 26/100\n",
            "1/1 [==============================] - 0s 12ms/step - loss: 0.6019 - acc: 0.9375\n",
            "Epoch 27/100\n",
            "1/1 [==============================] - 0s 11ms/step - loss: 0.5979 - acc: 0.9375\n",
            "Epoch 28/100\n",
            "1/1 [==============================] - 0s 13ms/step - loss: 0.5939 - acc: 0.9375\n",
            "Epoch 29/100\n",
            "1/1 [==============================] - 0s 13ms/step - loss: 0.5898 - acc: 0.9375\n",
            "Epoch 30/100\n",
            "1/1 [==============================] - 0s 13ms/step - loss: 0.5857 - acc: 0.9375\n",
            "Epoch 31/100\n",
            "1/1 [==============================] - 0s 12ms/step - loss: 0.5816 - acc: 0.9375\n",
            "Epoch 32/100\n",
            "1/1 [==============================] - 0s 12ms/step - loss: 0.5774 - acc: 0.9375\n",
            "Epoch 33/100\n",
            "1/1 [==============================] - 0s 11ms/step - loss: 0.5732 - acc: 0.9375\n",
            "Epoch 34/100\n",
            "1/1 [==============================] - 0s 12ms/step - loss: 0.5689 - acc: 0.9375\n",
            "Epoch 35/100\n",
            "1/1 [==============================] - 0s 12ms/step - loss: 0.5647 - acc: 0.9375\n",
            "Epoch 36/100\n",
            "1/1 [==============================] - 0s 12ms/step - loss: 0.5603 - acc: 0.9375\n",
            "Epoch 37/100\n",
            "1/1 [==============================] - 0s 12ms/step - loss: 0.5560 - acc: 0.9375\n",
            "Epoch 38/100\n",
            "1/1 [==============================] - 0s 12ms/step - loss: 0.5516 - acc: 0.9375\n",
            "Epoch 39/100\n",
            "1/1 [==============================] - 0s 12ms/step - loss: 0.5472 - acc: 0.9375\n",
            "Epoch 40/100\n",
            "1/1 [==============================] - 0s 12ms/step - loss: 0.5427 - acc: 0.9375\n",
            "Epoch 41/100\n",
            "1/1 [==============================] - 0s 12ms/step - loss: 0.5382 - acc: 0.9375\n",
            "Epoch 42/100\n",
            "1/1 [==============================] - 0s 10ms/step - loss: 0.5337 - acc: 0.9375\n",
            "Epoch 43/100\n",
            "1/1 [==============================] - 0s 11ms/step - loss: 0.5292 - acc: 0.9375\n",
            "Epoch 44/100\n",
            "1/1 [==============================] - 0s 10ms/step - loss: 0.5246 - acc: 0.9375\n",
            "Epoch 45/100\n",
            "1/1 [==============================] - 0s 12ms/step - loss: 0.5200 - acc: 0.9375\n",
            "Epoch 46/100\n",
            "1/1 [==============================] - 0s 12ms/step - loss: 0.5154 - acc: 0.9375\n",
            "Epoch 47/100\n",
            "1/1 [==============================] - 0s 12ms/step - loss: 0.5107 - acc: 0.9375\n",
            "Epoch 48/100\n",
            "1/1 [==============================] - 0s 14ms/step - loss: 0.5060 - acc: 0.9375\n",
            "Epoch 49/100\n",
            "1/1 [==============================] - 0s 12ms/step - loss: 0.5013 - acc: 0.9375\n",
            "Epoch 50/100\n",
            "1/1 [==============================] - 0s 12ms/step - loss: 0.4966 - acc: 0.9375\n",
            "Epoch 51/100\n",
            "1/1 [==============================] - 0s 13ms/step - loss: 0.4919 - acc: 0.9375\n",
            "Epoch 52/100\n",
            "1/1 [==============================] - 0s 12ms/step - loss: 0.4871 - acc: 0.9375\n",
            "Epoch 53/100\n",
            "1/1 [==============================] - 0s 12ms/step - loss: 0.4823 - acc: 0.9375\n",
            "Epoch 54/100\n",
            "1/1 [==============================] - 0s 12ms/step - loss: 0.4776 - acc: 0.9375\n",
            "Epoch 55/100\n",
            "1/1 [==============================] - 0s 12ms/step - loss: 0.4728 - acc: 0.9375\n",
            "Epoch 56/100\n",
            "1/1 [==============================] - 0s 12ms/step - loss: 0.4680 - acc: 0.9375\n",
            "Epoch 57/100\n",
            "1/1 [==============================] - 0s 13ms/step - loss: 0.4632 - acc: 1.0000\n",
            "Epoch 58/100\n",
            "1/1 [==============================] - 0s 12ms/step - loss: 0.4583 - acc: 1.0000\n",
            "Epoch 59/100\n",
            "1/1 [==============================] - 0s 12ms/step - loss: 0.4535 - acc: 1.0000\n",
            "Epoch 60/100\n",
            "1/1 [==============================] - 0s 11ms/step - loss: 0.4487 - acc: 1.0000\n",
            "Epoch 61/100\n",
            "1/1 [==============================] - 0s 10ms/step - loss: 0.4438 - acc: 1.0000\n",
            "Epoch 62/100\n",
            "1/1 [==============================] - 0s 12ms/step - loss: 0.4390 - acc: 1.0000\n",
            "Epoch 63/100\n",
            "1/1 [==============================] - 0s 12ms/step - loss: 0.4342 - acc: 1.0000\n",
            "Epoch 64/100\n",
            "1/1 [==============================] - 0s 12ms/step - loss: 0.4294 - acc: 1.0000\n",
            "Epoch 65/100\n",
            "1/1 [==============================] - 0s 12ms/step - loss: 0.4245 - acc: 1.0000\n",
            "Epoch 66/100\n",
            "1/1 [==============================] - 0s 12ms/step - loss: 0.4197 - acc: 1.0000\n",
            "Epoch 67/100\n",
            "1/1 [==============================] - 0s 12ms/step - loss: 0.4149 - acc: 1.0000\n",
            "Epoch 68/100\n",
            "1/1 [==============================] - 0s 12ms/step - loss: 0.4101 - acc: 1.0000\n",
            "Epoch 69/100\n",
            "1/1 [==============================] - 0s 12ms/step - loss: 0.4054 - acc: 1.0000\n",
            "Epoch 70/100\n",
            "1/1 [==============================] - 0s 15ms/step - loss: 0.4006 - acc: 1.0000\n",
            "Epoch 71/100\n",
            "1/1 [==============================] - 0s 12ms/step - loss: 0.3959 - acc: 1.0000\n",
            "Epoch 72/100\n",
            "1/1 [==============================] - 0s 12ms/step - loss: 0.3911 - acc: 1.0000\n",
            "Epoch 73/100\n",
            "1/1 [==============================] - 0s 12ms/step - loss: 0.3864 - acc: 1.0000\n",
            "Epoch 74/100\n",
            "1/1 [==============================] - 0s 14ms/step - loss: 0.3817 - acc: 1.0000\n",
            "Epoch 75/100\n",
            "1/1 [==============================] - 0s 15ms/step - loss: 0.3770 - acc: 1.0000\n",
            "Epoch 76/100\n",
            "1/1 [==============================] - 0s 13ms/step - loss: 0.3724 - acc: 1.0000\n",
            "Epoch 77/100\n",
            "1/1 [==============================] - 0s 11ms/step - loss: 0.3678 - acc: 1.0000\n",
            "Epoch 78/100\n",
            "1/1 [==============================] - 0s 12ms/step - loss: 0.3632 - acc: 1.0000\n",
            "Epoch 79/100\n",
            "1/1 [==============================] - 0s 12ms/step - loss: 0.3586 - acc: 1.0000\n",
            "Epoch 80/100\n",
            "1/1 [==============================] - 0s 12ms/step - loss: 0.3540 - acc: 1.0000\n",
            "Epoch 81/100\n",
            "1/1 [==============================] - 0s 12ms/step - loss: 0.3495 - acc: 1.0000\n",
            "Epoch 82/100\n",
            "1/1 [==============================] - 0s 11ms/step - loss: 0.3450 - acc: 1.0000\n",
            "Epoch 83/100\n",
            "1/1 [==============================] - 0s 12ms/step - loss: 0.3406 - acc: 1.0000\n",
            "Epoch 84/100\n",
            "1/1 [==============================] - 0s 13ms/step - loss: 0.3362 - acc: 1.0000\n",
            "Epoch 85/100\n",
            "1/1 [==============================] - 0s 12ms/step - loss: 0.3318 - acc: 1.0000\n",
            "Epoch 86/100\n",
            "1/1 [==============================] - 0s 13ms/step - loss: 0.3274 - acc: 1.0000\n",
            "Epoch 87/100\n",
            "1/1 [==============================] - 0s 12ms/step - loss: 0.3231 - acc: 1.0000\n",
            "Epoch 88/100\n",
            "1/1 [==============================] - 0s 10ms/step - loss: 0.3188 - acc: 1.0000\n",
            "Epoch 89/100\n",
            "1/1 [==============================] - 0s 13ms/step - loss: 0.3145 - acc: 1.0000\n",
            "Epoch 90/100\n",
            "1/1 [==============================] - 0s 13ms/step - loss: 0.3103 - acc: 1.0000\n",
            "Epoch 91/100\n",
            "1/1 [==============================] - 0s 13ms/step - loss: 0.3061 - acc: 1.0000\n",
            "Epoch 92/100\n",
            "1/1 [==============================] - 0s 13ms/step - loss: 0.3020 - acc: 1.0000\n",
            "Epoch 93/100\n",
            "1/1 [==============================] - 0s 12ms/step - loss: 0.2979 - acc: 1.0000\n",
            "Epoch 94/100\n",
            "1/1 [==============================] - 0s 11ms/step - loss: 0.2938 - acc: 1.0000\n",
            "Epoch 95/100\n",
            "1/1 [==============================] - 0s 13ms/step - loss: 0.2898 - acc: 1.0000\n",
            "Epoch 96/100\n",
            "1/1 [==============================] - 0s 13ms/step - loss: 0.2858 - acc: 1.0000\n",
            "Epoch 97/100\n",
            "1/1 [==============================] - 0s 13ms/step - loss: 0.2819 - acc: 1.0000\n",
            "Epoch 98/100\n",
            "1/1 [==============================] - 0s 12ms/step - loss: 0.2780 - acc: 1.0000\n",
            "Epoch 99/100\n",
            "1/1 [==============================] - 0s 12ms/step - loss: 0.2741 - acc: 1.0000\n",
            "Epoch 100/100\n",
            "1/1 [==============================] - 0s 11ms/step - loss: 0.2703 - acc: 1.0000\n",
            "Accuracy: 100.000000\n"
          ]
        }
      ]
    },
    {
      "cell_type": "markdown",
      "source": [
        "# **IMDB Sentiment Analysis with RNN**"
      ],
      "metadata": {
        "id": "AK2Octvw0Nj6"
      }
    },
    {
      "cell_type": "code",
      "source": [
        "import pandas as pd\n",
        "import numpy as np\n",
        "import re\n",
        "import nltk\n",
        "from nltk.corpus import stopwords\n",
        "from numpy import array\n",
        "from keras.preprocessing.text import one_hot\n",
        "from tensorflow.keras.preprocessing.sequence import pad_sequences\n",
        "from keras.models import Sequential\n",
        "from keras.layers.core import Activation, Dropout, Dense\n",
        "from keras.layers import Flatten\n",
        "from keras.layers import GlobalMaxPooling1D\n",
        "from tensorflow.keras.layers import Embedding\n",
        "from sklearn.model_selection import train_test_split\n",
        "from keras.preprocessing.text import Tokenizer\n"
      ],
      "metadata": {
        "id": "gmpcQOaj0QTf"
      },
      "execution_count": 4,
      "outputs": []
    },
    {
      "cell_type": "markdown",
      "source": [
        "Let's now import and analyze our dataset\n",
        "from this link https://www.kaggle.com/lakshmi25npathi/imdb-dataset-of-50k-movie-reviews"
      ],
      "metadata": {
        "id": "-R_vKELq1Jlb"
      }
    },
    {
      "cell_type": "code",
      "source": [
        "movie_reviews = pd.read_csv(\"/content/IMDB Dataset.csv\")\n",
        "movie_reviews.isnull().values.any()\n",
        "movie_reviews.shape\n"
      ],
      "metadata": {
        "colab": {
          "base_uri": "https://localhost:8080/"
        },
        "id": "8B_EH-CM07S0",
        "outputId": "3f61e90c-05bf-44fe-b023-9c1dc7f73b88"
      },
      "execution_count": 5,
      "outputs": [
        {
          "output_type": "execute_result",
          "data": {
            "text/plain": [
              "(50000, 2)"
            ]
          },
          "metadata": {},
          "execution_count": 5
        }
      ]
    },
    {
      "cell_type": "markdown",
      "source": [
        "As a first step, we will use the Tokenizer class from the keras.preprocessing.text module to create a word-to-index dictionary. In the word-to-index dictionary, each word in the corpus is used as a key, while a corresponding unique index is used as the value for the key."
      ],
      "metadata": {
        "id": "9zGFpkwp11iZ"
      }
    },
    {
      "cell_type": "code",
      "source": [
        "movie_reviews.head()\n",
        "\n"
      ],
      "metadata": {
        "id": "g57ipZrB1vlE",
        "colab": {
          "base_uri": "https://localhost:8080/",
          "height": 206
        },
        "outputId": "8c637eb9-2c0e-4733-a580-f31ea48e2f72"
      },
      "execution_count": 6,
      "outputs": [
        {
          "output_type": "execute_result",
          "data": {
            "text/plain": [
              "                                              review sentiment\n",
              "0  One of the other reviewers has mentioned that ...  positive\n",
              "1  A wonderful little production. <br /><br />The...  positive\n",
              "2  I thought this was a wonderful way to spend ti...  positive\n",
              "3  Basically there's a family where a little boy ...  negative\n",
              "4  Petter Mattei's \"Love in the Time of Money\" is...  positive"
            ],
            "text/html": [
              "\n",
              "  <div id=\"df-f698a0a6-0208-4adf-9326-effa4402716c\">\n",
              "    <div class=\"colab-df-container\">\n",
              "      <div>\n",
              "<style scoped>\n",
              "    .dataframe tbody tr th:only-of-type {\n",
              "        vertical-align: middle;\n",
              "    }\n",
              "\n",
              "    .dataframe tbody tr th {\n",
              "        vertical-align: top;\n",
              "    }\n",
              "\n",
              "    .dataframe thead th {\n",
              "        text-align: right;\n",
              "    }\n",
              "</style>\n",
              "<table border=\"1\" class=\"dataframe\">\n",
              "  <thead>\n",
              "    <tr style=\"text-align: right;\">\n",
              "      <th></th>\n",
              "      <th>review</th>\n",
              "      <th>sentiment</th>\n",
              "    </tr>\n",
              "  </thead>\n",
              "  <tbody>\n",
              "    <tr>\n",
              "      <th>0</th>\n",
              "      <td>One of the other reviewers has mentioned that ...</td>\n",
              "      <td>positive</td>\n",
              "    </tr>\n",
              "    <tr>\n",
              "      <th>1</th>\n",
              "      <td>A wonderful little production. &lt;br /&gt;&lt;br /&gt;The...</td>\n",
              "      <td>positive</td>\n",
              "    </tr>\n",
              "    <tr>\n",
              "      <th>2</th>\n",
              "      <td>I thought this was a wonderful way to spend ti...</td>\n",
              "      <td>positive</td>\n",
              "    </tr>\n",
              "    <tr>\n",
              "      <th>3</th>\n",
              "      <td>Basically there's a family where a little boy ...</td>\n",
              "      <td>negative</td>\n",
              "    </tr>\n",
              "    <tr>\n",
              "      <th>4</th>\n",
              "      <td>Petter Mattei's \"Love in the Time of Money\" is...</td>\n",
              "      <td>positive</td>\n",
              "    </tr>\n",
              "  </tbody>\n",
              "</table>\n",
              "</div>\n",
              "      <button class=\"colab-df-convert\" onclick=\"convertToInteractive('df-f698a0a6-0208-4adf-9326-effa4402716c')\"\n",
              "              title=\"Convert this dataframe to an interactive table.\"\n",
              "              style=\"display:none;\">\n",
              "        \n",
              "  <svg xmlns=\"http://www.w3.org/2000/svg\" height=\"24px\"viewBox=\"0 0 24 24\"\n",
              "       width=\"24px\">\n",
              "    <path d=\"M0 0h24v24H0V0z\" fill=\"none\"/>\n",
              "    <path d=\"M18.56 5.44l.94 2.06.94-2.06 2.06-.94-2.06-.94-.94-2.06-.94 2.06-2.06.94zm-11 1L8.5 8.5l.94-2.06 2.06-.94-2.06-.94L8.5 2.5l-.94 2.06-2.06.94zm10 10l.94 2.06.94-2.06 2.06-.94-2.06-.94-.94-2.06-.94 2.06-2.06.94z\"/><path d=\"M17.41 7.96l-1.37-1.37c-.4-.4-.92-.59-1.43-.59-.52 0-1.04.2-1.43.59L10.3 9.45l-7.72 7.72c-.78.78-.78 2.05 0 2.83L4 21.41c.39.39.9.59 1.41.59.51 0 1.02-.2 1.41-.59l7.78-7.78 2.81-2.81c.8-.78.8-2.07 0-2.86zM5.41 20L4 18.59l7.72-7.72 1.47 1.35L5.41 20z\"/>\n",
              "  </svg>\n",
              "      </button>\n",
              "      \n",
              "  <style>\n",
              "    .colab-df-container {\n",
              "      display:flex;\n",
              "      flex-wrap:wrap;\n",
              "      gap: 12px;\n",
              "    }\n",
              "\n",
              "    .colab-df-convert {\n",
              "      background-color: #E8F0FE;\n",
              "      border: none;\n",
              "      border-radius: 50%;\n",
              "      cursor: pointer;\n",
              "      display: none;\n",
              "      fill: #1967D2;\n",
              "      height: 32px;\n",
              "      padding: 0 0 0 0;\n",
              "      width: 32px;\n",
              "    }\n",
              "\n",
              "    .colab-df-convert:hover {\n",
              "      background-color: #E2EBFA;\n",
              "      box-shadow: 0px 1px 2px rgba(60, 64, 67, 0.3), 0px 1px 3px 1px rgba(60, 64, 67, 0.15);\n",
              "      fill: #174EA6;\n",
              "    }\n",
              "\n",
              "    [theme=dark] .colab-df-convert {\n",
              "      background-color: #3B4455;\n",
              "      fill: #D2E3FC;\n",
              "    }\n",
              "\n",
              "    [theme=dark] .colab-df-convert:hover {\n",
              "      background-color: #434B5C;\n",
              "      box-shadow: 0px 1px 3px 1px rgba(0, 0, 0, 0.15);\n",
              "      filter: drop-shadow(0px 1px 2px rgba(0, 0, 0, 0.3));\n",
              "      fill: #FFFFFF;\n",
              "    }\n",
              "  </style>\n",
              "\n",
              "      <script>\n",
              "        const buttonEl =\n",
              "          document.querySelector('#df-f698a0a6-0208-4adf-9326-effa4402716c button.colab-df-convert');\n",
              "        buttonEl.style.display =\n",
              "          google.colab.kernel.accessAllowed ? 'block' : 'none';\n",
              "\n",
              "        async function convertToInteractive(key) {\n",
              "          const element = document.querySelector('#df-f698a0a6-0208-4adf-9326-effa4402716c');\n",
              "          const dataTable =\n",
              "            await google.colab.kernel.invokeFunction('convertToInteractive',\n",
              "                                                     [key], {});\n",
              "          if (!dataTable) return;\n",
              "\n",
              "          const docLinkHtml = 'Like what you see? Visit the ' +\n",
              "            '<a target=\"_blank\" href=https://colab.research.google.com/notebooks/data_table.ipynb>data table notebook</a>'\n",
              "            + ' to learn more about interactive tables.';\n",
              "          element.innerHTML = '';\n",
              "          dataTable['output_type'] = 'display_data';\n",
              "          await google.colab.output.renderOutput(dataTable, element);\n",
              "          const docLink = document.createElement('div');\n",
              "          docLink.innerHTML = docLinkHtml;\n",
              "          element.appendChild(docLink);\n",
              "        }\n",
              "      </script>\n",
              "    </div>\n",
              "  </div>\n",
              "  "
            ]
          },
          "metadata": {},
          "execution_count": 6
        }
      ]
    },
    {
      "cell_type": "code",
      "source": [
        "movie_reviews[\"review\"][4]"
      ],
      "metadata": {
        "colab": {
          "base_uri": "https://localhost:8080/",
          "height": 174
        },
        "id": "Xc6dbt3YdiVb",
        "outputId": "e4f81ac9-5318-4552-fbf9-616a86388ffb"
      },
      "execution_count": 7,
      "outputs": [
        {
          "output_type": "execute_result",
          "data": {
            "text/plain": [
              "'Petter Mattei\\'s \"Love in the Time of Money\" is a visually stunning film to watch. Mr. Mattei offers us a vivid portrait about human relations. This is a movie that seems to be telling us what money, power and success do to people in the different situations we encounter. <br /><br />This being a variation on the Arthur Schnitzler\\'s play about the same theme, the director transfers the action to the present time New York where all these different characters meet and connect. Each one is connected in one way, or another to the next person, but no one seems to know the previous point of contact. Stylishly, the film has a sophisticated luxurious look. We are taken to see how these people live and the world they live in their own habitat.<br /><br />The only thing one gets out of all these souls in the picture is the different stages of loneliness each one inhabits. A big city is not exactly the best place in which human relations find sincere fulfillment, as one discerns is the case with most of the people we encounter.<br /><br />The acting is good under Mr. Mattei\\'s direction. Steve Buscemi, Rosario Dawson, Carol Kane, Michael Imperioli, Adrian Grenier, and the rest of the talented cast, make these characters come alive.<br /><br />We wish Mr. Mattei good luck and await anxiously for his next work.'"
            ],
            "application/vnd.google.colaboratory.intrinsic+json": {
              "type": "string"
            }
          },
          "metadata": {},
          "execution_count": 7
        }
      ]
    },
    {
      "cell_type": "code",
      "source": [
        "import seaborn as s\n",
        "s.countplot(x='sentiment', data=movie_reviews)"
      ],
      "metadata": {
        "colab": {
          "base_uri": "https://localhost:8080/",
          "height": 296
        },
        "id": "9x98m8Qzdbn5",
        "outputId": "32c43c43-c2e3-4814-c212-92241e9a4de7"
      },
      "execution_count": 8,
      "outputs": [
        {
          "output_type": "execute_result",
          "data": {
            "text/plain": [
              "<AxesSubplot:xlabel='sentiment', ylabel='count'>"
            ]
          },
          "metadata": {},
          "execution_count": 8
        },
        {
          "output_type": "display_data",
          "data": {
            "text/plain": [
              "<Figure size 432x288 with 1 Axes>"
            ],
            "image/png": "[encoded data removed]"
          },
          "metadata": {
            "needs_background": "light"
          }
        }
      ]
    },
    {
      "cell_type": "markdown",
      "source": [
        "From the output, it is clear that the dataset contains equal number of positive and negative reviews"
      ],
      "metadata": {
        "id": "dGrcTB--28tx"
      }
    },
    {
      "cell_type": "code",
      "source": [],
      "metadata": {
        "id": "e-VF3MPPdagK"
      },
      "execution_count": 8,
      "outputs": []
    },
    {
      "cell_type": "markdown",
      "source": [
        "### 1st stage : Data Preprocessing and cleaning"
      ],
      "metadata": {
        "id": "bBG3iTHE3Dze"
      }
    },
    {
      "cell_type": "markdown",
      "source": [
        "we will define a function that takes a text string as a parameter and then performs preprocessing on the string to remove special characters"
      ],
      "metadata": {
        "id": "10cYlfW53Ipk"
      }
    },
    {
      "cell_type": "code",
      "source": [
        "def preprocess_text(sen):\n",
        "  # Removing html tags\n",
        "  sentence = remove_tags(sen)\n",
        "  # Remove punctuations and numbers\n",
        "  sentence = re.sub('[^a-zA-Z]', ' ', sentence)\n",
        "  # Single character removal\n",
        "  sentence = re.sub(r\"\\s+[a-zA-Z]\\s+\", ' ', sentence)\n",
        "  # Removing multiple spaces empty text\n",
        "  sentence = re.sub(r'\\s+', ' ', sentence)\n",
        "  return sentence\n",
        "TAG_RE = re.compile(r'<[^>]+>')\n",
        "def remove_tags(text):\n",
        "  return TAG_RE.sub('', text)\n",
        "review = []\n",
        "sentences = list(movie_reviews['review'])\n",
        "for sen in sentences:\n",
        "  review.append(preprocess_text(sen))\n",
        "   "
      ],
      "metadata": {
        "id": "_eLp5ngL29Ss"
      },
      "execution_count": 9,
      "outputs": []
    },
    {
      "cell_type": "code",
      "source": [
        "review[4]"
      ],
      "metadata": {
        "colab": {
          "base_uri": "https://localhost:8080/",
          "height": 174
        },
        "id": "whPhrWiDodqF",
        "outputId": "7ae8367d-3e2a-4525-8cdf-b41e1eb86de4"
      },
      "execution_count": 10,
      "outputs": [
        {
          "output_type": "execute_result",
          "data": {
            "text/plain": [
              "'Petter Mattei Love in the Time of Money is visually stunning film to watch Mr Mattei offers us vivid portrait about human relations This is movie that seems to be telling us what money power and success do to people in the different situations we encounter This being variation on the Arthur Schnitzler play about the same theme the director transfers the action to the present time New York where all these different characters meet and connect Each one is connected in one way or another to the next person but no one seems to know the previous point of contact Stylishly the film has sophisticated luxurious look We are taken to see how these people live and the world they live in their own habitat The only thing one gets out of all these souls in the picture is the different stages of loneliness each one inhabits big city is not exactly the best place in which human relations find sincere fulfillment as one discerns is the case with most of the people we encounter The acting is good under Mr Mattei direction Steve Buscemi Rosario Dawson Carol Kane Michael Imperioli Adrian Grenier and the rest of the talented cast make these characters come alive We wish Mr Mattei good luck and await anxiously for his next work '"
            ],
            "application/vnd.google.colaboratory.intrinsic+json": {
              "type": "string"
            }
          },
          "metadata": {},
          "execution_count": 10
        }
      ]
    },
    {
      "cell_type": "markdown",
      "source": [
        "Next Step convert our labels into integers. Since we only have two labels in the output i.e. \"positive\" and \"negative\". convert them into integers by replacing \"positive\" --> 1 and negative --> 0 as shown below:"
      ],
      "metadata": {
        "id": "9BwKN3uU4P5c"
      }
    },
    {
      "cell_type": "code",
      "source": [
        "converted = movie_reviews['sentiment']\n",
        "converted = np.array(list(map(lambda x: 1 if x==\"positive\" else 0, converted)))\n",
        "# convert labels into classes (positive =1 and negative =0 )"
      ],
      "metadata": {
        "id": "1I9XzAFB3BnM"
      },
      "execution_count": 11,
      "outputs": []
    },
    {
      "cell_type": "markdown",
      "source": [
        "we need to divide our dataset into train and test sets. The train set will be used to train our deep learning models while the test set will be used to evaluate how well our model performs."
      ],
      "metadata": {
        "id": "1rDaSSHe4s7L"
      }
    },
    {
      "cell_type": "code",
      "source": [
        "review_train, review_test, converted_train, converted_test = train_test_split(review, converted, test_size=0.20, random_state=42)"
      ],
      "metadata": {
        "id": "Mxt5NRny4uV6"
      },
      "execution_count": 12,
      "outputs": []
    },
    {
      "cell_type": "markdown",
      "source": [
        "Let's now write the script for our embedding layer. The embedding layer converts our textual data into numeric data and is used as the first layer for the deep learning models in Keras.\n",
        "\n",
        "Tokenizer class from the keras.preprocessing.text module to create a word-to-index dictionary. In the word-to-index dictionary, each word in the corpus is used as a key, while a corresponding unique index is used as the value for the key."
      ],
      "metadata": {
        "id": "vveDfXJc42JZ"
      }
    },
    {
      "cell_type": "code",
      "source": [
        "tokenizer = Tokenizer(num_words=5000) # Tokenize sentences\n",
        "tokenizer.fit_on_texts(review_train)\n",
        "review_train = tokenizer.texts_to_sequences(review_train)\n",
        "review_test = tokenizer.texts_to_sequences(review_test) "
      ],
      "metadata": {
        "id": "tb7Sn0Nn42_J"
      },
      "execution_count": 13,
      "outputs": []
    },
    {
      "cell_type": "markdown",
      "source": [
        "We set the maximum size of each list to 100. You can try a different size. The lists with size greater than 100 will be truncated to 100. For the lists that have length less than 100, we will add 0 at the end of the list until it reaches the max length. This process is called padding."
      ],
      "metadata": {
        "id": "oL2o1li55Icy"
      }
    },
    {
      "cell_type": "code",
      "source": [
        "vocab_size = len(tokenizer.word_index) + 1\n",
        "maxlen = 100\n",
        "review_train = pad_sequences(review_train, padding='post', maxlen=maxlen)\n",
        "review_test = pad_sequences(review_test, padding='post', maxlen=maxlen)"
      ],
      "metadata": {
        "id": "s_ADSApm5J13"
      },
      "execution_count": 14,
      "outputs": []
    },
    {
      "cell_type": "markdown",
      "source": [
        "if you see review_train and review_test all the lists have same length i.e. 100. Also, the vocabulary_size variable now contains a value 92547 which means that our corpus has 92547 unique words.\n",
        "\n",
        "we will use GloVe embeddings to create our feature matrix. In the following script we load the GloVe word embeddings and create a dictionary that will contain words as keys and their corresponding embedding list as values."
      ],
      "metadata": {
        "id": "Q47yAXe75U8D"
      }
    },
    {
      "cell_type": "code",
      "source": [
        "from numpy import array      \n",
        "from numpy import asarray\n",
        "from numpy import zeros\n",
        "# create feature matrix using classes Glove Embeddings\n",
        "embeddings_dictionary = dict()\n",
        "glove_file = open('/content/glove.6B.100d.txt', encoding=\"utf8\")\n",
        "for line in glove_file:\n",
        "  records = line.split()\n",
        "  word = records[0]\n",
        "  vector_dimensions = asarray(records[1:], dtype='float32')\n",
        "  embeddings_dictionary [word] = vector_dimensions\n",
        "glove_file.close()"
      ],
      "metadata": {
        "id": "Pzmmbvb65Vht"
      },
      "execution_count": 15,
      "outputs": []
    },
    {
      "cell_type": "markdown",
      "source": [
        "Finally, we will create an embedding matrix where each row number will correspond to the index of the word in the corpus. The matrix will have 100 columns where each column will contain the GloVe word embeddings for the words in our corpus."
      ],
      "metadata": {
        "id": "JxMf1HPy5t41"
      }
    },
    {
      "cell_type": "code",
      "source": [
        "embedding_matrix = zeros((vocab_size, 100))\n",
        "for word, index in tokenizer.word_index.items():\n",
        "  embedding_vector = embeddings_dictionary.get(word)\n",
        "  if embedding_vector is not None:\n",
        "    embedding_matrix[index] = embedding_vector"
      ],
      "metadata": {
        "id": "6DSxgCVg5vNy"
      },
      "execution_count": 16,
      "outputs": []
    },
    {
      "cell_type": "code",
      "source": [
        "from keras.layers import LSTM\n",
        "model = Sequential() #100=dimension\n",
        "embedding_layer = Embedding(vocab_size, 100, weights=[embedding_matrix], input_length=maxlen , trainable=False)\n",
        "model.add(embedding_layer)\n",
        "model.add(LSTM(128))\n",
        "model.add(Dense(1, activation='sigmoid'))\n",
        "model.summary()\n",
        "model.compile(optimizer='adam', loss='binary_crossentropy', metrics=['acc'])"
      ],
      "metadata": {
        "id": "X0uvNkKP6NCw",
        "colab": {
          "base_uri": "https://localhost:8080/"
        },
        "outputId": "f8f8b088-5b50-4d21-fdff-21a908cb4ee9"
      },
      "execution_count": 17,
      "outputs": [
        {
          "output_type": "stream",
          "name": "stdout",
          "text": [
            "Model: \"sequential\"\n",
            "_________________________________________________________________\n",
            " Layer (type)                Output Shape              Param #   \n",
            "=================================================================\n",
            " embedding (Embedding)       (None, 100, 100)          9254700   \n",
            "                                                                 \n",
            " lstm (LSTM)                 (None, 128)               117248    \n",
            "                                                                 \n",
            " dense (Dense)               (None, 1)                 129       \n",
            "                                                                 \n",
            "=================================================================\n",
            "Total params: 9,372,077\n",
            "Trainable params: 117,377\n",
            "Non-trainable params: 9,254,700\n",
            "_________________________________________________________________\n"
          ]
        }
      ]
    },
    {
      "cell_type": "code",
      "source": [
        " history = model.fit(review_train, converted_train, batch_size=128, epochs=6, verbose=1, validation_split=0.2)\n",
        " score = model.evaluate(review_test, converted_test, verbose=1)\n",
        " print(\"Test Score:\", score[0])\n",
        " print(\"Test Accuracy:\", score[1])"
      ],
      "metadata": {
        "id": "DugBDW5C6mg5",
        "colab": {
          "base_uri": "https://localhost:8080/"
        },
        "outputId": "214f5b44-7a54-4708-a765-9b903ab58593"
      },
      "execution_count": 18,
      "outputs": [
        {
          "output_type": "stream",
          "name": "stdout",
          "text": [
            "Epoch 1/6\n",
            "250/250 [==============================] - 93s 360ms/step - loss: 0.5559 - acc: 0.7100 - val_loss: 0.4579 - val_acc: 0.7855\n",
            "Epoch 2/6\n",
            "250/250 [==============================] - 100s 401ms/step - loss: 0.4502 - acc: 0.7918 - val_loss: 0.4009 - val_acc: 0.8194\n",
            "Epoch 3/6\n",
            "250/250 [==============================] - 95s 380ms/step - loss: 0.3905 - acc: 0.8245 - val_loss: 0.4156 - val_acc: 0.8041\n",
            "Epoch 4/6\n",
            "250/250 [==============================] - 92s 365ms/step - loss: 0.3669 - acc: 0.8356 - val_loss: 0.3561 - val_acc: 0.8407\n",
            "Epoch 5/6\n",
            "250/250 [==============================] - 92s 368ms/step - loss: 0.3433 - acc: 0.8477 - val_loss: 0.3512 - val_acc: 0.8460\n",
            "Epoch 6/6\n",
            "250/250 [==============================] - 89s 354ms/step - loss: 0.3303 - acc: 0.8565 - val_loss: 0.3531 - val_acc: 0.8429\n",
            "313/313 [==============================] - 20s 64ms/step - loss: 0.3502 - acc: 0.8407\n",
            "Test Score: 0.3501569926738739\n",
            "Test Accuracy: 0.8406999707221985\n"
          ]
        }
      ]
    },
    {
      "cell_type": "code",
      "source": [
        "instance = review[60]\n",
        "print(instance)"
      ],
      "metadata": {
        "id": "fADLod7r7C6m",
        "colab": {
          "base_uri": "https://localhost:8080/"
        },
        "outputId": "de4f576e-a9b8-40ba-d15b-dbe6200817f2"
      },
      "execution_count": 19,
      "outputs": [
        {
          "output_type": "stream",
          "name": "stdout",
          "text": [
            "What happened What we have here is basically solid and plausible premise and with decent and talented cast but somewhere the movie loses it Actually it never really got going There was little excitement when we find out that Angie is not really pregnant then find out that she is after all but that was it Steve Martin who is very talented person and usually brings lot to movie was dreadful and his entire character was not even close to being important to this movie other than to make it longer really would have liked to see more interactions between the main characters Kate and Angie and maybe try not for pure comedy which unfortunately it was not but maybe drama with comedic elements think if the movie did this it could have been very funny since both actresses are quite funny in their own ways and sitting here can think of numerous scenarios that would have been riot \n"
          ]
        }
      ]
    },
    {
      "cell_type": "markdown",
      "source": [
        "To predict the sentiment of this review, we have to convert this review into numeric form. We can do so using the tokenizer that we created in word embedding section. The text_to_sequences method will convert the sentence into its numeric counter part.\n",
        "\n",
        "Next, we need to pad our input sequence as we did for our corpus. Finally, we can use the predict method of our model and pass it our processed input sequence."
      ],
      "metadata": {
        "id": "ZqUep86z-wLq"
      }
    },
    {
      "cell_type": "code",
      "source": [
        "instance = tokenizer.texts_to_sequences(instance)\n",
        "flat_list = []\n",
        "for sublist in instance:\n",
        "  for item in sublist:\n",
        "    flat_list.append(item)\n",
        "flat_list = [flat_list]\n",
        "instance = pad_sequences(flat_list, padding='post', maxlen=maxlen)\n",
        "model.predict(instance)"
      ],
      "metadata": {
        "id": "raA6NVT4_FiP",
        "colab": {
          "base_uri": "https://localhost:8080/"
        },
        "outputId": "8de5d050-f96c-4720-fcf3-40c93c235011"
      },
      "execution_count": 20,
      "outputs": [
        {
          "output_type": "stream",
          "name": "stdout",
          "text": [
            "1/1 [==============================] - 1s 515ms/step\n"
          ]
        },
        {
          "output_type": "execute_result",
          "data": {
            "text/plain": [
              "array([[0.38780737]], dtype=float32)"
            ]
          },
          "metadata": {},
          "execution_count": 20
        }
      ]
    },
    {
      "cell_type": "markdown",
      "source": [
        "\n",
        "Remember, we mapped the positive outputs to 1 and the negative outputs to 0. However, the sigmoid function predicts floating value between 0 and 1. If the value is less than 0.5, the sentiment is considered negative where as if the value is greater than 0.5, the sentiment is considered as positive. "
      ],
      "metadata": {
        "id": "QGfnqKgL_UUX"
      }
    },
    {
      "cell_type": "code",
      "source": [
        "import matplotlib.pyplot as plt\n",
        "plt.plot(history.history['acc'])\n",
        "plt.plot(history.history['val_acc'])\n",
        "plt.title('model accuracy')\n",
        "plt.ylabel('accuracy')\n",
        "plt.xlabel('epoch')\n",
        "plt.legend(['train','test'], loc='upper left')\n",
        "plt.show()\n",
        "plt.plot(history.history['loss'])\n",
        "plt.plot(history.history['val_loss'])\n",
        "plt.title('model loss')\n",
        "plt.ylabel('loss')\n",
        "plt.xlabel('epoch')\n",
        "plt.legend(['train','test'], loc='upper left')\n",
        "plt.show()"
      ],
      "metadata": {
        "id": "gBpi59kd_a6O",
        "colab": {
          "base_uri": "https://localhost:8080/",
          "height": 573
        },
        "outputId": "dd04e609-c512-4710-cad6-7269cb12741b"
      },
      "execution_count": 21,
      "outputs": [
        {
          "output_type": "display_data",
          "data": {
            "text/plain": [
              "<Figure size 432x288 with 1 Axes>"
            ],
            "image/png": "[encoded data removed]"
          },
          "metadata": {
            "needs_background": "light"
          }
        },
        {
          "output_type": "display_data",
          "data": {
            "text/plain": [
              "<Figure size 432x288 with 1 Axes>"
            ],
            "image/png": "[encoded data removed]"
          },
          "metadata": {
            "needs_background": "light"
          }
        }
      ]
    },
    {
      "cell_type": "markdown",
      "source": [
        "The output shows that the difference between the accuracy values for training and test sets is much small,Similarly, the different between the loss values is also negligible, which shows that our model is not overfitting."
      ],
      "metadata": {
        "id": "qK1l4uhs5yhs"
      }
    },
    {
      "cell_type": "code",
      "source": [],
      "metadata": {
        "id": "q8RLZmz1_hDs"
      },
      "execution_count": null,
      "outputs": []
    }
  ]
}